{
 "cells": [
  {
   "cell_type": "code",
   "execution_count": 69,
   "id": "ff508a12",
   "metadata": {
    "ExecuteTime": {
     "end_time": "2020-10-22T22:20:41.222450Z",
     "start_time": "2020-10-22T22:20:40.308783Z"
    }
   },
   "outputs": [],
   "source": [
    "import matplotlib.pyplot as plt\n",
    "from mpl_toolkits.mplot3d import Axes3D\n",
    "import numpy as np\n",
    "from scipy.io import loadmat\n",
    "from sklearn.metrics import mean_squared_error\n",
    "\n",
    "import pysindy as ps\n",
    "\n",
    "# Ignore matplotlib deprecation warnings\n",
    "import warnings\n",
    "warnings.filterwarnings(\"ignore\", category=UserWarning)\n",
    "\n",
    "\n",
    "integrator_keywords = {}\n",
    "integrator_keywords['rtol'] = 1e-12\n",
    "integrator_keywords['method'] = 'LSODA'\n",
    "integrator_keywords['atol'] = 1e-12"
   ]
  },
  {
   "cell_type": "markdown",
   "id": "c231105f",
   "metadata": {},
   "source": [
    "RPCA implementation for Python \\cite{rpcapy}"
   ]
  },
  {
   "cell_type": "code",
   "execution_count": 70,
   "id": "8520ddce",
   "metadata": {},
   "outputs": [],
   "source": [
    "# %load r_pca.py\n",
    "from __future__ import division, print_function\n",
    "\n",
    "import numpy as np\n",
    "\n",
    "try:\n",
    "    from pylab import plt\n",
    "except ImportError:\n",
    "    print('Unable to import pylab. R_pca.plot_fit() will not work.')\n",
    "\n",
    "try:\n",
    "    # Python 2: 'xrange' is the iterative version\n",
    "    range = xrange\n",
    "except NameError:\n",
    "    # Python 3: 'range' is iterative - no need for 'xrange'\n",
    "    pass\n",
    "\n",
    "\n",
    "class R_pca:\n",
    "\n",
    "    def __init__(self, D, mu=None, lmbda=None):\n",
    "        self.D = D\n",
    "        self.S = np.zeros(self.D.shape)\n",
    "        self.Y = np.zeros(self.D.shape)\n",
    "\n",
    "        if mu:\n",
    "            self.mu = mu\n",
    "        else:\n",
    "            self.mu = np.prod(self.D.shape) / (4 * np.linalg.norm(self.D, ord=1))\n",
    "\n",
    "        self.mu_inv = 1 / self.mu\n",
    "\n",
    "        if lmbda:\n",
    "            self.lmbda = lmbda\n",
    "        else:\n",
    "            self.lmbda = 1 / np.sqrt(np.max(self.D.shape))\n",
    "\n",
    "    @staticmethod\n",
    "    def frobenius_norm(M):\n",
    "        return np.linalg.norm(M, ord='fro')\n",
    "\n",
    "    @staticmethod\n",
    "    def shrink(M, tau):\n",
    "        return np.sign(M) * np.maximum((np.abs(M) - tau), np.zeros(M.shape))\n",
    "\n",
    "    def svd_threshold(self, M, tau):\n",
    "        U, S, V = np.linalg.svd(M, full_matrices=False)\n",
    "        return np.dot(U, np.dot(np.diag(self.shrink(S, tau)), V))\n",
    "\n",
    "    def fit(self, tol=None, max_iter=1000, iter_print=100):\n",
    "        iter = 0\n",
    "        err = np.Inf\n",
    "        Sk = self.S\n",
    "        Yk = self.Y\n",
    "        Lk = np.zeros(self.D.shape)\n",
    "\n",
    "        if tol:\n",
    "            _tol = tol\n",
    "        else:\n",
    "            _tol = 1E-7 * self.frobenius_norm(self.D)\n",
    "\n",
    "        #this loop implements the principal component pursuit (PCP) algorithm\n",
    "        #located in the table on page 29 of https://arxiv.org/pdf/0912.3599.pdf\n",
    "        while (err > _tol) and iter < max_iter:\n",
    "            Lk = self.svd_threshold(\n",
    "                self.D - Sk + self.mu_inv * Yk, self.mu_inv)                            #this line implements step 3\n",
    "            Sk = self.shrink(\n",
    "                self.D - Lk + (self.mu_inv * Yk), self.mu_inv * self.lmbda)             #this line implements step 4\n",
    "            Yk = Yk + self.mu * (self.D - Lk - Sk)                                      #this line implements step 5\n",
    "            err = self.frobenius_norm(self.D - Lk - Sk)\n",
    "            iter += 1\n",
    "            if (iter % iter_print) == 0 or iter == 1 or iter > max_iter or err <= _tol:\n",
    "                print('iteration: {0}, error: {1}'.format(iter, err))\n",
    "\n",
    "        self.L = Lk\n",
    "        self.S = Sk\n",
    "        return Lk, Sk\n",
    "\n",
    "    def plot_fit(self, size=None, tol=0.1, axis_on=True):\n",
    "\n",
    "        n, d = self.D.shape\n",
    "\n",
    "        if size:\n",
    "            nrows, ncols = size\n",
    "        else:\n",
    "            sq = np.ceil(np.sqrt(n))\n",
    "            nrows = int(sq)\n",
    "            ncols = int(sq)\n",
    "\n",
    "        ymin = np.nanmin(self.D)\n",
    "        ymax = np.nanmax(self.D)\n",
    "        print('ymin: {0}, ymax: {1}'.format(ymin, ymax))\n",
    "\n",
    "        numplots = np.min([n, nrows * ncols])\n",
    "        plt.figure()\n",
    "\n",
    "        for n in range(numplots):\n",
    "            plt.subplot(nrows, ncols, n + 1)\n",
    "            plt.ylim((ymin - tol, ymax + tol))\n",
    "            plt.plot(self.L[n, :] + self.S[n, :], 'r')\n",
    "            plt.plot(self.L[n, :], 'b')\n",
    "            if not axis_on:\n",
    "                plt.axis('off')\n"
   ]
  },
  {
   "cell_type": "markdown",
   "id": "14f8e671",
   "metadata": {},
   "source": [
    "# PDEFIND"
   ]
  },
  {
   "cell_type": "markdown",
   "id": "8c6f09e6",
   "metadata": {},
   "source": [
    "PDE-FIND is the PDE Solver built to extend the functionality of SINDy's original algorithm to recover the dynamics of PDE's. PDE functional identification of nonlinear dynamics (PDE-FIND) has a similar process to SINDy. Below is a figure from the original PDE-FIND paper that shows the pipeline for a vorticity dataset used to recover the Navier-Stokes equation in two different ways: Full dataset and Subsampling. \\cite{brunton_2016}"
   ]
  },
  {
   "cell_type": "markdown",
   "id": "b5d34677",
   "metadata": {},
   "source": [
    "<img src=\"Picture1.png\" />"
   ]
  },
  {
   "cell_type": "markdown",
   "id": "194a7180",
   "metadata": {},
   "source": [
    "Here is an explanation of both scenarios\n",
    "\\begin{enumerate}\n",
    "\\item Full Dataset\n",
    "    \\begin{itemize}\n",
    "        \\item a: Data is collected in snapshots of a solution to a PDE\n",
    "        \\item b: Numerical derivatives are taken in which the data is then compiled into a large matrix represented by $\\Theta$\n",
    "        \\item c: Sparse Regressions are used to identify active terms in the PDE\n",
    "    \\end{itemize}\n",
    "\\item Subsampling for Large Datasets\n",
    "     \\begin{itemize}\n",
    "    \\item a: for large data sets, sparse sampling may be used to reduce the size of problem\n",
    "    \\item b: Subsampling the data set is equivalent to taking a subset of rows from the linear system, using local information around each measurement\n",
    "    \\item c: Identical Sparse regression problem is formed but with fewer rows\n",
    "    \\end{itemize}\n",
    "\\end{enumerate}\n",
    "\n",
    "Finally, the active terms in $\\xi$ \n",
    "are synthesized into a PDE"
   ]
  },
  {
   "cell_type": "markdown",
   "id": "8e12ab18",
   "metadata": {},
   "source": [
    "## 1D PDE Example: The Bateman–Burgers Equation "
   ]
  },
  {
   "cell_type": "markdown",
   "id": "914e0827",
   "metadata": {},
   "source": [
    "### Background and Introduction\n",
    "The Bateman–Burgers equation (Known as Burgers' from here on) is a famous 1D nonlinear PDE made to act as a simplified model for turbulence. It can be used to describe the dynamics of system that experiences advection and difussion. Because of this, the applications for Burgers' equation span a few disciplines in fluid flow, gas dynamics, traffic flow, and nonlinear acoustics, making it a very powerful tool that we can use to test PDE-FIND. \n",
    "\n",
    "The Burgers' equation is:\n",
    "\n",
    "\\begin{equation}\\label{eq:1}\n",
    "\\frac{\\partial \\textbf{u}}{\\partial t} + u \\frac{\\partial \\textbf{u}}{\\partial x} = \\nu \\frac{\\partial^2 \\textbf{u}}{\\partial x^2}\n",
    "\\end{equation}\n",
    "\n",
    "where the terms are:\n",
    "\\begin{itemize}\n",
    "\\item $u(x,t)$ - The velocity of a fluid-like substance in spatial and temporal dimensions \n",
    "\\item $\\nu$ - Viscosity of fluid (Diffusion term)\n",
    "\\end{itemize}\n",
    "\n",
    "When describing this equation as a flow with u as a velocity, then the left hand side is described as the momentum being advected by the deterministic component of the flow, while the right hand side models its diffusion through thermal fluctuations. \n",
    "\n",
    "\n",
    "The Burgers' equation from \\ref{eq:1} can be rewritten into subscript notation for readability: \n",
    "\n",
    "\\begin{equation}\n",
    "\\label{eq:2}\n",
    "u_t + uu_x = \\nu u_{xx},\n",
    "\\end{equation}\n",
    "\n",
    "where we can start to rearrange terms for our specific use. Let's take a look at the situation where our measurement equipment is spatially resolved and we are looking at snapshots through time.\n",
    "\n",
    "\\begin{equation}\n",
    "\\label{eq:3}\n",
    "u_t = -uu_x + \\nu u_{xx}.\n",
    "\\end{equation}\n",
    "\n",
    "From the dataset, we have our viscosity $\\nu = 0.1$ to have the form $u_t = -uu_x + 0.1 u_{xx}$ and will be loading the data from matlab. "
   ]
  },
  {
   "cell_type": "markdown",
   "id": "431cad99",
   "metadata": {},
   "source": [
    "## Code Implementation"
   ]
  },
  {
   "cell_type": "markdown",
   "id": "5e2abaa2",
   "metadata": {},
   "source": [
    "The implementation of the Burgers' equation \\ref{eq:3} with PDE-FIND is shown below. Plotting the data of $u(x,t)$ and its derivative $\\dot u(x,t)$ to view the major dynamics of the flow. A possible issue with this method is that any noise within the data will be increased with higher order derivatives. There are ways to mitigate this issue by use of optimizers and noise-filtering algorithms, but a better approeach is the use of WSINDy which I will explain later. "
   ]
  },
  {
   "cell_type": "code",
   "execution_count": 71,
   "id": "f511e7e3",
   "metadata": {
    "scrolled": true
   },
   "outputs": [
    {
     "data": {
      "image/png": "[encoded data removed]",
      "text/plain": [
       "<Figure size 720x288 with 2 Axes>"
      ]
     },
     "metadata": {
      "needs_background": "light"
     },
     "output_type": "display_data"
    }
   ],
   "source": [
    "# Load data from .mat file\n",
    "data = loadmat('data/burgers.mat')\n",
    "t = np.ravel(data['t'])\n",
    "x = np.ravel(data['x'])\n",
    "u = np.real(data['usol'])\n",
    "dt = t[1] - t[0]\n",
    "dx = x[1] - x[0]\n",
    "\n",
    "# Plot u and u_dot\n",
    "plt.figure(figsize=(10, 4))\n",
    "plt.subplot(1, 2, 1)\n",
    "plt.pcolormesh(t, x, u)\n",
    "plt.xlabel('t', fontsize=16)\n",
    "plt.ylabel('x', fontsize=16)\n",
    "plt.title(r'$u(x, t)$', fontsize=16)\n",
    "u_dot = ps.FiniteDifference(axis=1)._differentiate(u, t=dt)\n",
    "\n",
    "plt.subplot(1, 2, 2)\n",
    "plt.pcolormesh(t, x, u_dot)\n",
    "plt.xlabel('t', fontsize=16)\n",
    "plt.ylabel('x', fontsize=16)\n",
    "ax = plt.gca()\n",
    "ax.set_yticklabels([])\n",
    "plt.title(r'$\\dot{u}(x, t)$', fontsize=16)\n",
    "plt.show()\n",
    "\n",
    "u = u.reshape(len(x), len(t), 1)\n",
    "u_dot = u_dot.reshape(len(x), len(t), 1)"
   ]
  },
  {
   "cell_type": "markdown",
   "id": "96bfd6f1",
   "metadata": {},
   "source": [
    "### PDE-FIND in PySINDy\n",
    "\n",
    "Now, we will begin passing our data through PySINDy's PDE-FIND to recover the governing equations. I also perform this using 3 different optimizers to compare which one works best for this model. "
   ]
  },
  {
   "cell_type": "markdown",
   "id": "bc7d6fad",
   "metadata": {},
   "source": [
    "#### Setting up the Model \n",
    "We initialize our model using PDE Library built into PySINDy. We start off with  `derivative_order = 2` and keep the format of `function_names=library_function_names` for readability. Here's a comparison: \n",
    "\n",
    "\\begin{itemize}\n",
    "\\item Without function names\n",
    "\n",
    "```['f0(x0)', 'f0(x1)', 'f1(x0)', 'f1(x1)', 'x0_1', 'x1_1', 'x0_11', 'x1_11', 'f0(x0)x0_1', 'f0(x0)x1_1', 'f0(x1)x0_1', 'f0(x1)x1_1', 'f1(x0)x0_1', 'f1(x0)x1_1', 'f1(x1)x0_1', 'f1(x1)x1_1', 'f0(x0)x0_11', 'f0(x0)x1_11', 'f0(x1)x0_11', 'f0(x1)x1_11', 'f1(x0)x0_11', 'f1(x0)x1_11', 'f1(x1)x0_11', 'f1(x1)x1_11']```\n",
    "    \n",
    "\\item With function names\n",
    "\n",
    "```['x0', 'x1', 'x0x0', 'x1x1', 'x0_1', 'x1_1', 'x0_11', 'x1_11', 'x0x0_1', 'x0x1_1', 'x1x0_1', 'x1x1_1', 'x0x0x0_1', 'x0x0x1_1', 'x1x1x0_1', 'x1x1x1_1', 'x0x0_11', 'x0x1_11', 'x1x0_11', 'x1x1_11', 'x0x0x0_11', 'x0x0x1_11', 'x1x1x0_11', 'x1x1x1_11'] ```\n",
    "   \n",
    "\\end{itemize}\n",
    "\n",
    "![display image](https://media1.giphy.com/media/a3DCqdn8MHBmM/giphy.gif?cid=ecf05e47wum20cpzzz53ep5fbppl0j732sqx8xgs8ezjpufm&rid=giphy.gif&ct=g)\n",
    "\n",
    "That's a little better I guess but you get the point. you can further increase readability by adding custom function names which you will see in our outputs below"
   ]
  },
  {
   "cell_type": "code",
   "execution_count": 72,
   "id": "043268e3",
   "metadata": {},
   "outputs": [],
   "source": [
    "library_functions = [lambda x: x, lambda x: x * x]\n",
    "library_function_names = [lambda x: x, lambda x: x + x]\n",
    "pde_lib = ps.PDELibrary(\n",
    "    library_functions=library_functions,\n",
    "    function_names=library_function_names,\n",
    "    derivative_order=2,\n",
    "    spatial_grid=x,\n",
    "    is_uniform=True,\n",
    ")"
   ]
  },
  {
   "cell_type": "markdown",
   "id": "64180ca4",
   "metadata": {},
   "source": [
    "Now to test some optimizers! The 3 optimizers we're using are STLSQ, SR3, and a greedy algorithm SSR. These optimizers are pretty straightforward to use but there are a couple of other optimizers that may be better depending on the model. The list and description of these optimizers can be found in the feature overview for PySINDy \\cite{pysindy}. "
   ]
  },
  {
   "cell_type": "code",
   "execution_count": 73,
   "id": "caf59e07",
   "metadata": {
    "scrolled": true
   },
   "outputs": [
    {
     "name": "stdout",
     "output_type": "stream",
     "text": [
      "STLSQ model: \n",
      "(u)' = 0.100 u_11 + -1.001 uu_1\n",
      "SR3 model, L0 norm: \n",
      "(u)' = 0.100 u_11 + -1.001 uu_1\n",
      "SSR model: \n",
      "(u)' = 0.100 u_11 + -1.001 uu_1\n"
     ]
    }
   ],
   "source": [
    "\n",
    "print('STLSQ model: ')\n",
    "optimizer = ps.STLSQ(threshold=2, alpha=1e-5, normalize_columns=True)\n",
    "model = ps.SINDy(feature_library=pde_lib, optimizer=optimizer, feature_names=['u'])\n",
    "model.fit(u, t=dt)\n",
    "model.print()\n",
    "\n",
    "print('SR3 model, L0 norm: ')\n",
    "optimizer = ps.SR3(\n",
    "    threshold=3,\n",
    "    max_iter=10000,\n",
    "    tol=1e-15,\n",
    "    nu=1e2,\n",
    "    thresholder=\"l0\",\n",
    "    normalize_columns=True,\n",
    ")\n",
    "model = ps.SINDy(feature_library=pde_lib, optimizer=optimizer, feature_names=['u'])\n",
    "model.fit(u, t=dt)\n",
    "model.print()\n",
    "\n",
    "print('SSR model: ')\n",
    "optimizer = ps.SSR(normalize_columns=True, kappa=1)\n",
    "model = ps.SINDy(feature_library=pde_lib, optimizer=optimizer, feature_names=['u'])\n",
    "model.fit(u, t=dt)\n",
    "model.print()\n"
   ]
  },
  {
   "cell_type": "markdown",
   "id": "195e7788",
   "metadata": {},
   "source": [
    "![nice](https://media1.giphy.com/media/uCsL8i80SVkgU/giphy.gif?cid=ecf05e47a04kgg52m9jw4o9jvc2cgtoa8uzikgx037141xdr&rid=giphy.gif&ct=g)\n",
    "\n",
    "That's pretty darn good. All 3 optimizers were able to discover the proper governing equation and isolate what our viscosity value of $\\nu$ was. To clarify, let's compare what we started with and what the STLSQ model gave us:\n",
    "\n",
    "Actual: $u_t = -uu_x + 0.1 u_{xx}$\n",
    "\n",
    "Recovered: $u_t = -1.001 uu_x + 0.100 u_{xx}$"
   ]
  },
  {
   "cell_type": "markdown",
   "id": "86dd70ed",
   "metadata": {},
   "source": [
    "## Why Stop There?\n",
    "\n",
    "There is one major question to ask: How well does this algorithm work? It is able to reproduce the data realitvely well but in both cases of full dataset and subsampling, PDE-FIND becomes very sensitive to noise. This is where the creation of WSINDy was made to rectify the noise issue. "
   ]
  },
  {
   "cell_type": "markdown",
   "id": "e540861a",
   "metadata": {},
   "source": [
    "# WSINDy\n",
    "By using weak SINDY, we can increase the robustness, speed, and accuracy\n",
    "for discovering the governing equations of a given system. WSINDy outperforms SINDy for higher signal-to noise data. This is done by removing the need for pointwise derivative approximations in discovering the PDE. WSINDy can recover governing terms with acceptable accuracy even as the signal-to-noise ratio approaches one in certain systems . WSINDy has the added ability to achieve high-accuracy recovery in the presence of noise. \\cite{messenger_2021}\n",
    "\n",
    "WSINDy is distinguished by employing integration by parts in space and time against smooth compactly supported test functions to recover PDE’s. Exploiting the separability of test functions from the convolutional weak form enables efficient model identification in the Fast Fourier Transform (FFT). The implementation of the FFT is important in analyzing the high-noise modes in the data and determining the test function hyperpa- rameters required. WSINDy requires some manual tuning of hyperparameters to ensure proper filtering of high-frequency modes while preserving dominant behavior, allowing higher accuracy in the large-noise regime. "
   ]
  },
  {
   "cell_type": "markdown",
   "id": "e8a5d5b1",
   "metadata": {},
   "source": [
    "## Burgers' Equation with WSINDy\n",
    "\n",
    "Now let's impliment WSINDy to recover the Burgers' equation \\ref{eq:3} from the same data that we used for PDE-FIND. This should be a no brainer since there is no major noise in the data. "
   ]
  },
  {
   "cell_type": "code",
   "execution_count": 74,
   "id": "0d17643b",
   "metadata": {},
   "outputs": [
    {
     "name": "stdout",
     "output_type": "stream",
     "text": [
      "(u)' = 0.100 u_11 + -1.000 uu_1\n"
     ]
    }
   ],
   "source": [
    "library_functions = [lambda x: x, lambda x: x * x]\n",
    "library_function_names = [lambda x: x, lambda x: x + x]\n",
    "\n",
    "# Creating our spatiotemporal grid and then calling the weak sindy library\n",
    "X, T = np.meshgrid(x, t)\n",
    "XT = np.asarray([X, T]).T\n",
    "pde_lib = ps.WeakPDELibrary(library_functions=library_functions, \n",
    "                            function_names=library_function_names, \n",
    "                            derivative_order=2,\n",
    "                            spatiotemporal_grid=XT,\n",
    "                            is_uniform=True, K=1000,\n",
    "                            )\n",
    "\n",
    "# Model fitting using SR3\n",
    "optimizer = ps.SR3(threshold=0.05, thresholder='l0', \n",
    "                   tol=1e-8, normalize_columns=True, max_iter=1000)\n",
    "\n",
    "#Fitting with SINDy\n",
    "model = ps.SINDy(feature_library=pde_lib, optimizer=optimizer, feature_names=['u'])\n",
    "model.fit(u, quiet=True)\n",
    "model.print()"
   ]
  },
  {
   "cell_type": "markdown",
   "id": "94007e2c",
   "metadata": {},
   "source": [
    "## Noisy Data\n",
    "\n",
    "Now lets try adding noise to the same data. "
   ]
  },
  {
   "cell_type": "markdown",
   "id": "227d3953",
   "metadata": {},
   "source": [
    "### 20% Noise"
   ]
  },
  {
   "cell_type": "code",
   "execution_count": 75,
   "id": "830e984f",
   "metadata": {},
   "outputs": [
    {
     "name": "stdout",
     "output_type": "stream",
     "text": [
      "(u)' = 0.098 u_11 + -0.986 uu_1\n"
     ]
    }
   ],
   "source": [
    "data = loadmat('data/burgers.mat')\n",
    "t = np.ravel(data['t'])\n",
    "x = np.ravel(data['x'])\n",
    "u = np.real(data['usol'])\n",
    "dt = t[1] - t[0]\n",
    "dx = x[1] - x[0]\n",
    "\n",
    "#root mean squared error for use in adding noise\n",
    "rmse = mean_squared_error(u, np.zeros(u.shape), squared=False)\n",
    "u = u + np.random.normal(0, rmse / 5.0, u.shape)\n",
    "u = np.reshape(u, (len(x), len(t), 1))\n",
    "library_functions = [lambda x: x, lambda x: x * x]\n",
    "library_function_names = [lambda x: x, lambda x: x + x]\n",
    "X, T = np.meshgrid(x, t)\n",
    "XT = np.asarray([X, T]).T\n",
    "pde_lib = ps.WeakPDELibrary(\n",
    "    library_functions=library_functions, \n",
    "    function_names=library_function_names, \n",
    "    derivative_order=2,\n",
    "    spatiotemporal_grid=XT,\n",
    "    is_uniform=True, K=1000,\n",
    "    )\n",
    "\n",
    "optimizer = ps.SR3(threshold=0.05, thresholder='l0', \n",
    "                   tol=1e-8, normalize_columns=True, max_iter=1000)\n",
    "model = ps.SINDy(feature_library=pde_lib, optimizer=optimizer, feature_names=['u'])\n",
    "model.fit(u, quiet=True)\n",
    "model.print()"
   ]
  },
  {
   "cell_type": "markdown",
   "id": "6d1dcb6a",
   "metadata": {},
   "source": [
    "With WSINDy, we were able to recover the equation $u_t = -.986 uu_x + 0.098 u_{xx}$ which is pretty darn good for 20% noise. Now let's try to break it. "
   ]
  },
  {
   "cell_type": "markdown",
   "id": "65a74709",
   "metadata": {},
   "source": [
    "### 33% noise"
   ]
  },
  {
   "cell_type": "code",
   "execution_count": 76,
   "id": "b0d2c42d",
   "metadata": {},
   "outputs": [
    {
     "name": "stdout",
     "output_type": "stream",
     "text": [
      "(u)' = 0.069 u + -0.184 uu + 0.060 u_11 + -1.340 uu_1 + 0.771 uuu_1\n"
     ]
    }
   ],
   "source": [
    "u = np.real(data['usol'])\n",
    "dt = t[1] - t[0]\n",
    "dx = x[1] - x[0]\n",
    "rmse = mean_squared_error(u, np.zeros(u.shape), squared=False)\n",
    "u = u + np.random.normal(0, rmse /3.0, u.shape)\n",
    "u = np.reshape(u, (len(x), len(t), 1))\n",
    "library_functions = [lambda x: x, lambda x: x * x]\n",
    "library_function_names = [lambda x: x, lambda x: x + x]\n",
    "X, T = np.meshgrid(x, t)\n",
    "XT = np.asarray([X, T]).T\n",
    "pde_lib = ps.WeakPDELibrary(library_functions=library_functions, \n",
    "                            function_names=library_function_names, \n",
    "                            derivative_order=2,\n",
    "                            spatiotemporal_grid=XT,\n",
    "                            is_uniform=True, K=1000,\n",
    "                            )\n",
    "optimizer = ps.SR3(threshold=0.05, thresholder='l0', \n",
    "                   tol=1e-8, normalize_columns=True, max_iter=1000)\n",
    "model = ps.SINDy(feature_library=pde_lib, optimizer=optimizer, feature_names=['u'])\n",
    "model.fit(u, quiet=True)\n",
    "model.print()\n"
   ]
  },
  {
   "cell_type": "markdown",
   "id": "f99dd777",
   "metadata": {},
   "source": [
    "Alright, this isn't looking too good but at least the terms of `u_11` and `uu_1` are somewhat correct. "
   ]
  },
  {
   "cell_type": "markdown",
   "id": "3f85316d",
   "metadata": {},
   "source": [
    "### 50% Noise"
   ]
  },
  {
   "cell_type": "code",
   "execution_count": 91,
   "id": "cdfdb086",
   "metadata": {},
   "outputs": [
    {
     "name": "stdout",
     "output_type": "stream",
     "text": [
      "(u)' = 0.049 u + -0.194 uu + 0.052 u_11 + -1.300 uu_1 + 0.644 uuu_1 + -0.006 uuu_11\n"
     ]
    }
   ],
   "source": [
    "data = loadmat('data/burgers.mat')\n",
    "t = np.ravel(data['t'])\n",
    "x = np.ravel(data['x'])\n",
    "u = np.real(data['usol'])\n",
    "dt = t[1] - t[0]\n",
    "dx = x[1] - x[0]\n",
    "rmse = mean_squared_error(u, np.zeros(u.shape), squared=False)\n",
    "u = u + np.random.normal(0, rmse / 2.0, u.shape)\n",
    "u = np.reshape(u, (len(x), len(t), 1))\n",
    "library_functions = [lambda x: x, lambda x: x * x]\n",
    "library_function_names = [lambda x: x, lambda x: x + x]\n",
    "X, T = np.meshgrid(x, t)\n",
    "XT = np.asarray([X, T]).T\n",
    "pde_lib = ps.WeakPDELibrary(library_functions=library_functions,                            \n",
    "                            function_names=library_function_names, \n",
    "                            derivative_order=2,\n",
    "                            spatiotemporal_grid=XT,\n",
    "                            is_uniform=True, K=1000,\n",
    "                            )\n",
    "\n",
    "optimizer = ps.SR3(threshold=0.05, thresholder='l0', \n",
    "                   tol=1e-8, normalize_columns=True, max_iter=1000)\n",
    "model = ps.SINDy(feature_library=pde_lib, optimizer=optimizer, feature_names=['u'])\n",
    "model.fit(u, quiet=True)\n",
    "model.print()"
   ]
  },
  {
   "cell_type": "markdown",
   "id": "1a84d6df",
   "metadata": {},
   "source": [
    "This is now getting really bad compared to the 35% version where the terms we care about are now significantly off (At least the signs are correct). "
   ]
  },
  {
   "cell_type": "markdown",
   "id": "a8bb93be",
   "metadata": {},
   "source": [
    "WSINDy starts to slow down when trying to retain the correct model with increase noise. This is because with increased noise, the K value has to be increased as well which severely impacts the computation time. For this reason I will leave it to the reader to mess with the K value and see if you can recover the correct equation, but beware that my PC did not like it one bit. \n",
    "\n",
    "Otherwise, the main Takeaway is how robust WSINDy can be made on its own. But there are other techniques that can be utilized in tandem with WSINDy to further increase its robustness to noise such as ensembling and filtering. I mentioned subsampling in the PDEFIND introduction, but a form of filtering that can be utilized is Robust principle component analysis which helps in separating noise from coherent structures in data. There is a python script that someone has made to implement RPCA into python but I was unable to properly implement it with PySINDy but I will include my tests in the Appendix. "
   ]
  },
  {
   "cell_type": "markdown",
   "id": "8b393004",
   "metadata": {},
   "source": [
    "# PDE-FIND vs WSINDy"
   ]
  },
  {
   "cell_type": "markdown",
   "id": "278510c5",
   "metadata": {},
   "source": [
    "Now let's compare the outputs of PDE-FIND and WSINDy when recovering the Burgers' equation at the various noise levels."
   ]
  },
  {
   "cell_type": "markdown",
   "id": "48969c08",
   "metadata": {},
   "source": [
    "## 0% Noise\n",
    "\n",
    "This one showed that both worked pretty well for 0% noise. The outputs were:\n",
    "\n",
    "PDE-FIND: $u_t = -1.001 uu_x + 0.100 u_{xx}$\n",
    "\n",
    "WSINDy: $u_t = -1.00 uu_x + 0.100 u_{xx}$\n",
    "\n",
    "With WSINDy, we were able to recover the equation and dynamics EXACTLY to the actual equation. "
   ]
  },
  {
   "cell_type": "markdown",
   "id": "124aa60b",
   "metadata": {},
   "source": [
    "## 20% Noise\n",
    "\n",
    "We were able to recover the equation and dynamics pretty well for WSINDy, but now lets test this with PDE-FIND."
   ]
  },
  {
   "cell_type": "code",
   "execution_count": 81,
   "id": "73fe68d8",
   "metadata": {
    "scrolled": true
   },
   "outputs": [
    {
     "name": "stdout",
     "output_type": "stream",
     "text": [
      "(u)' = -0.133 uu + -0.001 uuu_1 + -0.543 uu_11\n"
     ]
    }
   ],
   "source": [
    "data = loadmat('data/burgers.mat')\n",
    "t = np.ravel(data['t'])\n",
    "x = np.ravel(data['x'])\n",
    "u = np.real(data['usol'])\n",
    "dt = t[1] - t[0]\n",
    "dx = x[1] - x[0]\n",
    "rmse = mean_squared_error(u, np.zeros(u.shape), squared=False)\n",
    "u = u + np.random.normal(0, rmse / 5.0, u.shape)\n",
    "u_dot = ps.FiniteDifference(axis=1)._differentiate(u, t=dt)\n",
    "u = u.reshape(len(x), len(t), 1)\n",
    "u_dot = u_dot.reshape(len(x), len(t), 1)\n",
    "\n",
    "library_functions = [lambda x: x, lambda x: x * x]\n",
    "library_function_names = [lambda x: x, lambda x: x + x]\n",
    "pde_lib = ps.PDELibrary(\n",
    "    library_functions=library_functions,\n",
    "    function_names=library_function_names,\n",
    "    derivative_order=2,\n",
    "    spatial_grid=x,\n",
    "    is_uniform=True,\n",
    ")\n",
    "\n",
    "optimizer = ps.SR3(\n",
    "    threshold=3,\n",
    "    max_iter=10000,\n",
    "    tol=1e-15,\n",
    "    nu=1e2,\n",
    "    thresholder=\"l0\",\n",
    "    normalize_columns=True,\n",
    ")\n",
    "model = ps.SINDy(feature_library=pde_lib, optimizer=optimizer, feature_names=['u'])\n",
    "model.fit(u, t=dt)\n",
    "model.print()"
   ]
  },
  {
   "cell_type": "markdown",
   "id": "4b7f04b3",
   "metadata": {},
   "source": [
    "Now let's compare:\n",
    "\n",
    "PDE-FIND: $u_t = -0.133 u^2 + -0.001uuu_x + -0.543 uu_{xx}$ \n",
    "\n",
    "WSINDy: $u_t = -.986uu_x + 0.0986 u_{xx}$ \n",
    "\n",
    "\n",
    "Here we start to see WSINDy separate from PDE-FIND. With 20% noise, PDE-FIND has recovered extra terms and lost both of our actual terms needed while WSINDy has retained its robustness to still be rounded to our original equation $u_t = -uu_x + 0.1 u_{xx}$ (\\ref{eq:3})"
   ]
  },
  {
   "cell_type": "markdown",
   "id": "1044592d",
   "metadata": {},
   "source": [
    "## 33% Noise\n",
    "\n",
    "For 33% Noise we started to see some of the noise affect the robustness of WSINDy. "
   ]
  },
  {
   "cell_type": "code",
   "execution_count": 82,
   "id": "3160ab3e",
   "metadata": {},
   "outputs": [
    {
     "name": "stdout",
     "output_type": "stream",
     "text": [
      "(u)' = -0.100 uu + -0.002 uuu_1 + 0.004 uuu_11\n"
     ]
    }
   ],
   "source": [
    "data = loadmat('data/burgers.mat')\n",
    "t = np.ravel(data['t'])\n",
    "x = np.ravel(data['x'])\n",
    "u = np.real(data['usol'])\n",
    "dt = t[1] - t[0]\n",
    "dx = x[1] - x[0]\n",
    "rmse = mean_squared_error(u, np.zeros(u.shape), squared=False)\n",
    "u = u + np.random.normal(0, rmse / 3.0, u.shape)\n",
    "u_dot = ps.FiniteDifference(axis=1)._differentiate(u, t=dt)\n",
    "u = u.reshape(len(x), len(t), 1)\n",
    "u_dot = u_dot.reshape(len(x), len(t), 1)\n",
    "\n",
    "library_functions = [lambda x: x, lambda x: x * x]\n",
    "library_function_names = [lambda x: x, lambda x: x + x]\n",
    "pde_lib = ps.PDELibrary(\n",
    "    library_functions=library_functions,\n",
    "    function_names=library_function_names,\n",
    "    derivative_order=2,\n",
    "    spatial_grid=x,\n",
    "    is_uniform=True,\n",
    ")\n",
    "\n",
    "optimizer = ps.SR3(\n",
    "    threshold=3,\n",
    "    max_iter=10000,\n",
    "    tol=1e-15,\n",
    "    nu=1e2,\n",
    "    thresholder=\"l0\",\n",
    "    normalize_columns=True,\n",
    ")\n",
    "model = ps.SINDy(feature_library=pde_lib, optimizer=optimizer, feature_names=['u'])\n",
    "model.fit(u, t=dt)\n",
    "model.print()"
   ]
  },
  {
   "cell_type": "markdown",
   "id": "3f6eedf2",
   "metadata": {},
   "source": [
    "\n",
    "PDE-FIND: $u_t = -0.100 u^2 + -0.002uuu_x + 0.004 uuu_{xx}$ \n",
    "\n",
    "WSINDy: $u_t = 0.069u + -0.184u^2 + 0.060u_{xx} + -1.340 uu_{x} + 0.771 u^2u_{x}$\n",
    "\n",
    "We have gained extra terms in both model, but while WSINDy still contains $+u_{xx}$ and $-uu_{X}$ terms relatively close to what their coefficients are, PDE-FIND has lost both of those terms and the dynamics described are now not as easily seen. \n"
   ]
  },
  {
   "cell_type": "markdown",
   "id": "d04d27b8",
   "metadata": {},
   "source": [
    "## 50% Noise"
   ]
  },
  {
   "cell_type": "code",
   "execution_count": 90,
   "id": "25e80c7e",
   "metadata": {},
   "outputs": [
    {
     "name": "stdout",
     "output_type": "stream",
     "text": [
      "(u)' = -0.109 uu + -0.001 uuu_1\n"
     ]
    }
   ],
   "source": [
    "data = loadmat('data/burgers.mat')\n",
    "t = np.ravel(data['t'])\n",
    "x = np.ravel(data['x'])\n",
    "u = np.real(data['usol'])\n",
    "dt = t[1] - t[0]\n",
    "dx = x[1] - x[0]\n",
    "rmse = mean_squared_error(u, np.zeros(u.shape), squared=False)\n",
    "u = u + np.random.normal(0, rmse / 2.0, u.shape)\n",
    "u_dot = ps.FiniteDifference(axis=1)._differentiate(u, t=dt)\n",
    "u = u.reshape(len(x), len(t), 1)\n",
    "u_dot = u_dot.reshape(len(x), len(t), 1)\n",
    "\n",
    "library_functions = [lambda x: x, lambda x: x * x]\n",
    "library_function_names = [lambda x: x, lambda x: x + x]\n",
    "pde_lib = ps.PDELibrary(\n",
    "    library_functions=library_functions,\n",
    "    function_names=library_function_names,\n",
    "    derivative_order=2,\n",
    "    spatial_grid=x,\n",
    "    is_uniform=True,\n",
    ")\n",
    "\n",
    "optimizer = ps.SR3(\n",
    "    threshold=3,\n",
    "    max_iter=10000,\n",
    "    tol=1e-15,\n",
    "    nu=1e2,\n",
    "    thresholder=\"l0\",\n",
    "    normalize_columns=True,\n",
    ")\n",
    "model = ps.SINDy(feature_library=pde_lib, optimizer=optimizer, feature_names=['u'])\n",
    "model.fit(u, t=dt)\n",
    "model.print()"
   ]
  },
  {
   "cell_type": "markdown",
   "id": "9fee52c3",
   "metadata": {},
   "source": [
    "Finally, comparing 50% noise we have: \n",
    "\n",
    "\n",
    "PDE-FIND: $u_t = -0.109 u^2 + -0.001uuu_x$ \n",
    "\n",
    "WSINDy: $u_t = 0.049u + -.194u^2 + 0.052u_{xx} + -1.300 uu_{x} + 0.644 u^2u_{x} + -.006u^2u_{xx}$\n",
    "\n",
    "While WSINDy has picked up another extra term compared to 33%, it is still retaining the coefficients for the expected terms pretty close to the actual value. The dynamics become less clear to identify but there are plenty of techniques to help increase the robustness to a variety of different noise levels and types. "
   ]
  },
  {
   "cell_type": "markdown",
   "id": "be0813d9",
   "metadata": {},
   "source": [
    "# Tips for Robustness\n",
    "\n",
    "From the documentation\\cite{pysindy}, there are a few ways to help with the robustness and efficiency of PySINDy\n",
    "\n",
    "## Subsampling\n",
    "\n",
    "Subsampling/Ensembling is one of the methods to help with the robustness of the algorithm to any outliers or corrupted data. This also helps when dealing with large datasets and efficiency of analyzing the dataset when implementing with PySINDy. I was unsuccessful in implementing a working version of subsampling for my dataset so I will include an example of one in the Appendix\\cite{}. \n",
    "\n",
    "## Optimizing the Optimizers\n",
    "\n",
    "There are a few optimizers built-in to PySINDy that work for a variety of different use-cases and all of them can be fine-tuned to the dataset and model. I mainly focused on SR3 as it was the best optimizer for my use case but it is universally pretty powerful to start off with. The downside is the computation time as discussed in my WSINDy model where further techniques would be needed to help keep computations low while increasing robustness.\n",
    "\n",
    "## Filtering Techniques\n",
    "\n",
    "A very simple but powerful technique to be implemented for any data is a pre-filtering of corruption/noisy data within the measurements. This can include what is called Salt and Pepper noise (Corrupted measurements that are either null values or extreme outliers) or general Gaussian noise. One of my favorite algorithms for pre-filtering is RPCA\\cite{scherl_2019} which I have only used in fluid flows but it can be used in a system to recover the coherent structure modes of a dynamics system. It has shown to have robustness of up to 60% of salt and pepper noise, though it doesn't work as well with Gaussian noise. There are other techniques such as DMD or even better regression techniques to help with the training process which will improve PySINDy's ability to recover the dynamics. "
   ]
  },
  {
   "cell_type": "markdown",
   "id": "8ae9b72b",
   "metadata": {},
   "source": [
    "# Results/Conclusions\n",
    "There are a few conclusions that one can make from this analysis. \n",
    "\n",
    "\n",
    "## Computation\n",
    "When comparing WSINDy to PDE-FIND, I have found that PDE-FIND took very little time to compute anything I threw at it. For my system, it would need only about a second with a K value as high as 1000. In contrast, WSINDy would take quite a long time with the same K value. When increasing the value to 5000, I started to notice instability in my system and long computation times with a result that had not a significant change as I would have liked. As I mentioned in the tips section, there are practices and techniques to reduce this computation for a better result but the only one I was able to successfully implement with my current system was pre-filtering with RPCA before inputting to WSINDy, though I found the reproducability to not be consistent. \n",
    "\n",
    "## Ease of Use\n",
    "As a package, PySINDy has been great for not only learning the power of SINDy but also the ease of use for it. I feel that if I had a piece of data and just wanted to do a quick analysis of it before diving too far into a numerical analysis, I could just try to run some SINDy models to get a better picture and possibly find analytical solutions from the dynamics of the data. WSINDy requires more setup and configuration with the hyperparameters and model fitting, but that may be something that requires more experience in data-driven methods in which I am an amateur. \n",
    "\n",
    "## Robustness\n",
    "WSINDy completely dominated PDE-FIND when it came to Gaussian noise and while the computation time mentioned above is a concern, its robustness is truly something interesting and one that I know from reading papers and documentation that when implemented with the techniques I mentioned could really have a very low margin of error with noisy data. \n",
    "\n",
    "# Takeaways\n",
    "We were able to compare PDE-FIND and WSINDy for various noise levels when trying to recover the dynamics of a system and its governing equations from its data alone. The ability to do so in both of those methods is phenomenal for both real time computing in applications of robotics and aviation as well as research and analysis of data where the dynamics of a system may not be as simple to compute and may have multiple influences within itself. While this tutorial went over a very basic equation that is both foundational and broad, the use case for SINDy has span disciplines from biology and health to physics and fluids. I look forward to incorporating this into any future work I have and hope that you the reader may have found this interesting as well."
   ]
  },
  {
   "cell_type": "markdown",
   "id": "673fcaae",
   "metadata": {},
   "source": [
    "# Appendix \n"
   ]
  },
  {
   "cell_type": "markdown",
   "id": "da697e54",
   "metadata": {},
   "source": [
    "## RPCA Analysis"
   ]
  },
  {
   "cell_type": "code",
   "execution_count": 12,
   "id": "bf4bd440",
   "metadata": {
    "scrolled": false
   },
   "outputs": [
    {
     "name": "stdout",
     "output_type": "stream",
     "text": [
      "iteration: 1, error: 0.042024064235227414\n",
      "iteration: 100, error: 7.094911202643978e-05\n",
      "iteration: 200, error: 7.592812430941474e-05\n",
      "iteration: 300, error: 0.0001517408475892644\n",
      "iteration: 400, error: 6.937631591338061e-05\n",
      "iteration: 500, error: 0.0002610296316000412\n",
      "iteration: 600, error: 5.901187751280206e-05\n",
      "iteration: 700, error: 2.704963153811015e-05\n",
      "iteration: 800, error: 2.348368370092646e-05\n",
      "iteration: 900, error: 3.0165120549385487e-05\n",
      "iteration: 1000, error: 1.75288249425148e-05\n",
      "iteration: 1100, error: 1.2745364751037722e-05\n",
      "iteration: 1200, error: 1.5216646083194011e-05\n",
      "iteration: 1300, error: 2.1439991946888957e-05\n",
      "iteration: 1400, error: 7.0462942493448055e-06\n",
      "iteration: 1500, error: 6.122215576918671e-06\n",
      "iteration: 1600, error: 4.520631089777066e-06\n",
      "iteration: 1700, error: 3.7959466703516555e-06\n",
      "iteration: 1734, error: 3.5211637959253707e-06\n",
      "(u)' = 0.108 u_11 + -0.989 uu_1\n"
     ]
    }
   ],
   "source": [
    "data = loadmat('data/burgers.mat')\n",
    "t = np.ravel(data['t'])\n",
    "x = np.ravel(data['x'])\n",
    "u = np.real(data['usol'])\n",
    "dt = t[1] - t[0]\n",
    "dx = x[1] - x[0]\n",
    "rmse = mean_squared_error(u, np.zeros(u.shape), squared=False)\n",
    "u = u + np.random.normal(0, rmse /4 , u.shape)\n",
    "rpca = R_pca(u)\n",
    "L, S = rpca.fit(max_iter=10000, iter_print=100)\n",
    "u = np.reshape(L, (len(x), len(t), 1))\n",
    "\n",
    "# Define weak form PDE library \n",
    "library_functions = [lambda x: x, lambda x: x * x]\n",
    "library_function_names = [lambda x: x, lambda x: x + x]\n",
    "\n",
    "# Need to define the 2D spatiotemporal grid before calling the library\n",
    "X, T = np.meshgrid(x, t)\n",
    "XT = np.asarray([X, T]).T\n",
    "pde_lib = ps.WeakPDELibrary(library_functions=library_functions, \n",
    "                            function_names=library_function_names, \n",
    "                            derivative_order=2,\n",
    "                            spatiotemporal_grid=XT,\n",
    "                            is_uniform=True, K=1000,\n",
    "                            )\n",
    "\n",
    "# Fit a weak form model\n",
    "optimizer = ps.SR3(threshold=0.05, thresholder='l0', \n",
    "                   tol=1e-8, normalize_columns=True, max_iter=1000)\n",
    "model = ps.SINDy(feature_library=pde_lib, optimizer=optimizer, feature_names=['u'])\n",
    "model.fit(u, quiet=True)\n",
    "model.print()"
   ]
  },
  {
   "cell_type": "markdown",
   "id": "c1fbb46b",
   "metadata": {},
   "source": [
    "When using RPCA to pre-filter the velocity data before pushing it through WSINDy, we are actually able to recover the equation without any extra terms with 25% noise."
   ]
  },
  {
   "cell_type": "code",
   "execution_count": 22,
   "id": "2102444f",
   "metadata": {},
   "outputs": [
    {
     "name": "stdout",
     "output_type": "stream",
     "text": [
      "iteration: 1, error: 0.0449680301746169\n",
      "iteration: 100, error: 6.362683392258706e-05\n",
      "iteration: 200, error: 6.442561651736265e-05\n",
      "iteration: 300, error: 0.00010675743961488923\n",
      "iteration: 400, error: 0.0003880924156394892\n",
      "iteration: 500, error: 7.770746207782244e-05\n",
      "iteration: 600, error: 0.00028732326330648444\n",
      "iteration: 700, error: 3.9456975399804013e-05\n",
      "iteration: 800, error: 5.0254853663377214e-05\n",
      "iteration: 900, error: 2.1421042383108383e-05\n",
      "iteration: 1000, error: 2.8922622009850058e-05\n",
      "iteration: 1100, error: 1.4485822593975574e-05\n",
      "iteration: 1200, error: 2.269802707885611e-05\n",
      "iteration: 1300, error: 1.629718938606602e-05\n",
      "iteration: 1400, error: 1.1881419487494385e-05\n",
      "iteration: 1500, error: 8.999990166828658e-06\n",
      "iteration: 1600, error: 6.362971861665705e-06\n",
      "iteration: 1700, error: 9.402698354521978e-06\n",
      "iteration: 1800, error: 4.198410024256279e-06\n",
      "iteration: 1900, error: 3.7503736078293365e-06\n",
      "iteration: 1905, error: 3.593412470093479e-06\n",
      "(u)' = 0.088 u_11 + -1.459 uu_1 + 1.222 uuu_1\n"
     ]
    }
   ],
   "source": [
    "data = loadmat('data/burgers.mat')\n",
    "t = np.ravel(data['t'])\n",
    "x = np.ravel(data['x'])\n",
    "u = np.real(data['usol'])\n",
    "dt = t[1] - t[0]\n",
    "dx = x[1] - x[0]\n",
    "rmse = mean_squared_error(u, np.zeros(u.shape), squared=False)\n",
    "u = u + np.random.normal(0, rmse /3 , u.shape)\n",
    "rpca = R_pca(u)\n",
    "L, S = rpca.fit(max_iter=10000, iter_print=100)\n",
    "u = np.reshape(L, (len(x), len(t), 1))\n",
    "\n",
    "# Define weak form PDE library \n",
    "library_functions = [lambda x: x, lambda x: x * x]\n",
    "library_function_names = [lambda x: x, lambda x: x + x]\n",
    "\n",
    "# Need to define the 2D spatiotemporal grid before calling the library\n",
    "X, T = np.meshgrid(x, t)\n",
    "XT = np.asarray([X, T]).T\n",
    "pde_lib = ps.WeakPDELibrary(library_functions=library_functions, \n",
    "                            function_names=library_function_names, \n",
    "                            derivative_order=2,\n",
    "                            spatiotemporal_grid=XT,\n",
    "                            is_uniform=True, K=1000,\n",
    "                            )\n",
    "\n",
    "# Fit a weak form model\n",
    "optimizer = ps.SR3(threshold=0.05, thresholder='l0', \n",
    "                   tol=1e-8, normalize_columns=True, max_iter=1000)\n",
    "model = ps.SINDy(feature_library=pde_lib, optimizer=optimizer, feature_names=['u'])\n",
    "model.fit(u, quiet=True)\n",
    "model.print()"
   ]
  },
  {
   "cell_type": "code",
   "execution_count": 78,
   "id": "bd0b0fbd",
   "metadata": {},
   "outputs": [
    {
     "name": "stdout",
     "output_type": "stream",
     "text": [
      "iteration: 1, error: 0.05244437975849675\n",
      "iteration: 100, error: 5.66111244721864e-05\n",
      "iteration: 200, error: 5.802183088024086e-05\n",
      "iteration: 300, error: 5.944967513911849e-05\n",
      "iteration: 400, error: 5.980939290217996e-05\n",
      "iteration: 500, error: 0.00011242556655937149\n",
      "iteration: 600, error: 0.00012761508617138915\n",
      "iteration: 700, error: 6.894238846215064e-05\n",
      "iteration: 800, error: 3.870492253416376e-05\n",
      "iteration: 900, error: 3.6852829490702036e-05\n",
      "iteration: 1000, error: 3.505298911398232e-05\n",
      "iteration: 1100, error: 2.312289036208252e-05\n",
      "iteration: 1200, error: 3.26586250355548e-05\n",
      "iteration: 1300, error: 1.614966336479392e-05\n",
      "iteration: 1400, error: 1.9564865703099228e-05\n",
      "iteration: 1500, error: 1.1246882254400325e-05\n",
      "iteration: 1600, error: 0.0001006480258563549\n",
      "iteration: 1700, error: 1.1176179563706866e-05\n",
      "iteration: 1800, error: 7.03741881471299e-06\n",
      "iteration: 1900, error: 1.277917404661396e-05\n",
      "iteration: 2000, error: 5.187881029178372e-06\n",
      "iteration: 2100, error: 6.196554744586589e-06\n",
      "iteration: 2200, error: 3.939168337072619e-06\n",
      "iteration: 2225, error: 3.8055283074716645e-06\n",
      "(u)' = -0.025 u + -0.184 uu + -0.041 u_1 + 0.065 u_11 + -1.152 uu_1 + 0.910 uuu_1 + -0.084 uuu_11\n"
     ]
    }
   ],
   "source": [
    "data = loadmat('data/burgers.mat')\n",
    "t = np.ravel(data['t'])\n",
    "x = np.ravel(data['x'])\n",
    "u = np.real(data['usol'])\n",
    "dt = t[1] - t[0]\n",
    "dx = x[1] - x[0]\n",
    "rmse = mean_squared_error(u, np.zeros(u.shape), squared=False)\n",
    "u = u + np.random.normal(0, rmse /2 , u.shape)\n",
    "rpca = R_pca(u)\n",
    "L, S = rpca.fit(max_iter=10000, iter_print=100)\n",
    "u = np.reshape(L, (len(x), len(t), 1))\n",
    "library_functions = [lambda x: x, lambda x: x * x]\n",
    "library_function_names = [lambda x: x, lambda x: x + x]\n",
    "X, T = np.meshgrid(x, t)\n",
    "XT = np.asarray([X, T]).T\n",
    "pde_lib = ps.WeakPDELibrary(library_functions=library_functions, \n",
    "                            function_names=library_function_names, \n",
    "                            derivative_order=2,\n",
    "                            spatiotemporal_grid=XT,\n",
    "                            is_uniform=True, K=3000,\n",
    "                            )\n",
    "optimizer = ps.SR3(threshold=0.05, thresholder='l0', \n",
    "                   tol=1e-8, normalize_columns=True, max_iter=1000)\n",
    "model = ps.SINDy(feature_library=pde_lib, optimizer=optimizer, feature_names=['u'])\n",
    "model.fit(u, quiet=True)\n",
    "model.print()"
   ]
  },
  {
   "cell_type": "markdown",
   "id": "4c523d4b",
   "metadata": {},
   "source": [
    "At 50% noise we lose some of the robustness but as I mentioned above, this now requires further fiddling with the library that will increase it's computation requirements. Otherwise, the computation to reach this result compared to WSINDy alone is shorter and we are able to recover a decent result of the dynamics for the system. "
   ]
  },
  {
   "cell_type": "markdown",
   "id": "527b49ee",
   "metadata": {},
   "source": [
    "## Attempt at Subsampling for Burgers' Dataset"
   ]
  },
  {
   "cell_type": "code",
   "execution_count": 92,
   "id": "7c48f4a1",
   "metadata": {},
   "outputs": [
    {
     "data": {
      "image/png": "[encoded data removed]",
      "text/plain": [
       "<Figure size 720x288 with 2 Axes>"
      ]
     },
     "metadata": {
      "needs_background": "light"
     },
     "output_type": "display_data"
    }
   ],
   "source": [
    "data = loadmat('data/burgers.mat')\n",
    "time = np.ravel(data['t'])\n",
    "x = np.ravel(data['x'])\n",
    "u = np.real(data['usol'])\n",
    "rmse = mean_squared_error(u, np.zeros(u.shape), squared=False)\n",
    "u = u + np.random.normal(0, rmse / 10.0, u.shape)\n",
    "dt = time[1] - time[0]\n",
    "dx = x[1] - x[0]\n",
    "plt.figure(figsize=(10, 4))\n",
    "plt.subplot(1, 2, 1)\n",
    "plt.pcolormesh(time, x, u)\n",
    "plt.xlabel('t', fontsize=16)\n",
    "plt.ylabel('x', fontsize=16)\n",
    "plt.title(r'$u(x, t)$', fontsize=16)\n",
    "u = u.reshape(len(x), len(time), 1)\n",
    "u_dot = ps.FiniteDifference(axis=1)._differentiate(u, t=dt)\n",
    "plt.subplot(1, 2, 2)\n",
    "plt.pcolormesh(time, x, u_dot[:, :, 0])\n",
    "plt.xlabel('t', fontsize=16)\n",
    "plt.ylabel('x', fontsize=16)\n",
    "ax = plt.gca()\n",
    "ax.set_yticklabels([])\n",
    "plt.title(r'$\\dot{u}(x, t)$', fontsize=16)\n",
    "plt.show()"
   ]
  },
  {
   "cell_type": "code",
   "execution_count": 93,
   "id": "310f32ae",
   "metadata": {},
   "outputs": [],
   "source": [
    "train = range(0, int(len(time) * 0.6))\n",
    "test = [i for i in np.arange(len(time)) if i not in train]\n",
    "u_train = u[:, train, :]\n",
    "u_test = u[:, test, :]\n",
    "u_dot_train = u_dot[:, train, :]\n",
    "u_dot_test = u_dot[:, test, 0]\n",
    "t_train = time[train]\n",
    "t_test = time[test]\n",
    "\n",
    "X, T = np.meshgrid(x, t_train)\n",
    "XT = np.asarray([X, T]).T\n",
    "library_functions = [lambda x: x, lambda x: x * x]\n",
    "library_function_names = [lambda x: x, lambda x: x + x]\n",
    "pde_lib = ps.WeakPDELibrary(\n",
    "    library_functions=library_functions,\n",
    "    function_names=library_function_names,\n",
    "    derivative_order=2,\n",
    "    spatiotemporal_grid=XT,\n",
    "    include_bias=True,\n",
    "    is_uniform=False,\n",
    "    periodic=True\n",
    ")"
   ]
  },
  {
   "cell_type": "code",
   "execution_count": 94,
   "id": "aa01a805",
   "metadata": {},
   "outputs": [
    {
     "name": "stdout",
     "output_type": "stream",
     "text": [
      "(x0)' = 0.000\n",
      "Mean of KS models:  [[0. 0. 0. 0. 0. 0. 0. 0. 0. 0. 0. 0. 0. 0. 0.]]\n",
      "Median of KS models:  [[0. 0. 0. 0. 0. 0. 0. 0. 0. 0. 0. 0. 0. 0. 0.]]\n"
     ]
    }
   ],
   "source": [
    "n_models = 10\n",
    "optimizer = ps.SR3(threshold=2, max_iter=100, tol=1e-3, \n",
    "                   thresholder='l0', normalize_columns=True)\n",
    "\n",
    "model = ps.SINDy(feature_library=pde_lib, optimizer=optimizer)\n",
    "model.fit(u_train, ensemble=True, \n",
    "          n_models=n_models, n_subset=len(time) // 2, quiet=True)\n",
    "\n",
    "model.print()\n",
    "\n",
    "# Aggregate, average, and take median of the coefficients\n",
    "weak_KS_models = np.asarray(model.coef_list)\n",
    "mean_weak_KS_models = np.mean(weak_KS_models, axis=0)\n",
    "median_weak_KS_models = np.median(weak_KS_models, axis=0)\n",
    "print('Mean of KS models: ', mean_weak_KS_models)\n",
    "print('Median of KS models: ', median_weak_KS_models)"
   ]
  },
  {
   "cell_type": "code",
   "execution_count": 95,
   "id": "9b38f67e",
   "metadata": {},
   "outputs": [],
   "source": [
    "negligible_val = 1e-2\n",
    "\n",
    "# Simple definition of a model error, ||True - Pred|| / ||True||\n",
    "def model_error(KS_pred_coef, KS_true_coef):\n",
    "    return np.linalg.norm(KS_true_coef - KS_pred_coef\n",
    "                         ) / np.linalg.norm(KS_true_coef)\n",
    "\n",
    "# Returns 1 if the identified model has three coefficient \n",
    "# entries in the right locations. Otherwise returns 0. \n",
    "def success_rate(KS_pred_coef, KS_true_coef):\n",
    "    return np.all(\n",
    "        (abs(KS_true_coef) > negligible_val) == (abs(KS_pred_coef) > negligible_val)\n",
    "    )"
   ]
  },
  {
   "cell_type": "code",
   "execution_count": 96,
   "id": "2c00863d",
   "metadata": {},
   "outputs": [
    {
     "name": "stdout",
     "output_type": "stream",
     "text": [
      "['1', 'x0', 'x0x0', 'x0_1', 'x0_11', 'x0_111', 'x0_1111', 'x0x0_1', 'x0x0x0_1', 'x0x0_11', 'x0x0x0_11', 'x0x0_111', 'x0x0x0_111', 'x0x0_1111', 'x0x0x0_1111']\n",
      "mean:  1.0 False\n",
      "median:  1.0 False\n",
      "0 1.0 False\n",
      "1 1.0 False\n",
      "2 1.0 False\n",
      "3 1.0 False\n",
      "4 1.0 False\n",
      "5 1.0 False\n",
      "6 1.0 False\n",
      "7 1.0 False\n",
      "8 1.0 False\n",
      "9 1.0 False\n",
      "Average model error:  100.0 %\n",
      "Average success rate:  0.0 %\n"
     ]
    }
   ],
   "source": [
    "print(model.get_feature_names())\n",
    "KS_true = np.zeros((1, 15))\n",
    "KS_true[0, 4] = -1.0\n",
    "KS_true[0, 6] = -1.0\n",
    "KS_true[0, 7] = -1.0\n",
    "print('mean: ', model_error(mean_weak_KS_models, KS_true), \n",
    "      success_rate(mean_weak_KS_models, KS_true))\n",
    "print('median: ', model_error(median_weak_KS_models, KS_true), \n",
    "      success_rate(median_weak_KS_models, KS_true))\n",
    "\n",
    "total_model_error = []\n",
    "total_success_rate = []\n",
    "for i in range(n_models):\n",
    "    coef = weak_KS_models[i, :, :]\n",
    "    total_model_error.append(model_error(coef, KS_true))\n",
    "    total_success_rate.append(success_rate(coef, KS_true))\n",
    "    print(i, model_error(coef, KS_true), success_rate(coef, KS_true))\n",
    "    \n",
    "print('Average model error: ', np.mean(total_model_error, axis=0) * 100, '%')\n",
    "print('Average success rate: ', np.mean(total_success_rate, axis=0) * 100, '%')"
   ]
  },
  {
   "cell_type": "code",
   "execution_count": 97,
   "id": "2cd34ab6",
   "metadata": {},
   "outputs": [],
   "source": [
    "data = loadmat('data/burgers.mat')\n",
    "time = np.ravel(data['t'])\n",
    "x = np.ravel(data['x'])\n",
    "u = np.real(data['usol'])\n",
    "\n",
    "library_functions = [lambda x: x, lambda x: x * x]\n",
    "library_function_names = [lambda x: x, lambda x: x + x]\n",
    "X, T = np.meshgrid(x, time)\n",
    "XT = np.asarray([X, T]).T\n",
    "pde_lib = ps.WeakPDELibrary(\n",
    "    library_functions=library_functions,\n",
    "    function_names=library_function_names,\n",
    "    derivative_order=4,\n",
    "    spatiotemporal_grid=XT,\n",
    "    include_bias=True,\n",
    "    is_uniform=True,\n",
    "    K=200,\n",
    "    num_pts_per_domain=200,\n",
    "    include_interaction=True,\n",
    "    periodic=True\n",
    ")"
   ]
  },
  {
   "cell_type": "code",
   "execution_count": 98,
   "id": "3b8d43ce",
   "metadata": {
    "scrolled": true
   },
   "outputs": [
    {
     "name": "stdout",
     "output_type": "stream",
     "text": [
      "(x0)' = 0.000\n"
     ]
    },
    {
     "name": "stderr",
     "output_type": "stream",
     "text": [
      "/tmp/ipykernel_437/3441022592.py:31: RuntimeWarning: divide by zero encountered in double_scalars\n",
      "  delta_c1[i, j] = abs(abs(c1 - 1.0) / c1)\n",
      "/tmp/ipykernel_437/3441022592.py:32: RuntimeWarning: divide by zero encountered in double_scalars\n",
      "  delta_c2[i, j] = abs(abs(c2 - 1.0) / c2)\n",
      "/tmp/ipykernel_437/3441022592.py:33: RuntimeWarning: divide by zero encountered in double_scalars\n",
      "  delta_c3[i, j] = abs(abs(c3 - 1.0) / c3)\n"
     ]
    },
    {
     "ename": "KeyboardInterrupt",
     "evalue": "",
     "output_type": "error",
     "traceback": [
      "\u001b[0;31m---------------------------------------------------------------------------\u001b[0m",
      "\u001b[0;31mKeyboardInterrupt\u001b[0m                         Traceback (most recent call last)",
      "\u001b[0;32m/tmp/ipykernel_437/3441022592.py\u001b[0m in \u001b[0;36m<module>\u001b[0;34m\u001b[0m\n\u001b[1;32m     24\u001b[0m         \u001b[0mu_noisy\u001b[0m \u001b[0;34m=\u001b[0m \u001b[0mu\u001b[0m \u001b[0;34m+\u001b[0m \u001b[0mnp\u001b[0m\u001b[0;34m.\u001b[0m\u001b[0mrandom\u001b[0m\u001b[0;34m.\u001b[0m\u001b[0mnormal\u001b[0m\u001b[0;34m(\u001b[0m\u001b[0;36m0\u001b[0m\u001b[0;34m,\u001b[0m \u001b[0mnoise\u001b[0m\u001b[0;34m,\u001b[0m \u001b[0mu\u001b[0m\u001b[0;34m.\u001b[0m\u001b[0mshape\u001b[0m\u001b[0;34m)\u001b[0m\u001b[0;34m\u001b[0m\u001b[0;34m\u001b[0m\u001b[0m\n\u001b[1;32m     25\u001b[0m         \u001b[0mu_noisy\u001b[0m \u001b[0;34m=\u001b[0m \u001b[0mnp\u001b[0m\u001b[0;34m.\u001b[0m\u001b[0mreshape\u001b[0m\u001b[0;34m(\u001b[0m\u001b[0mu_noisy\u001b[0m\u001b[0;34m,\u001b[0m \u001b[0;34m(\u001b[0m\u001b[0mlen\u001b[0m\u001b[0;34m(\u001b[0m\u001b[0mx\u001b[0m\u001b[0;34m)\u001b[0m\u001b[0;34m,\u001b[0m \u001b[0mlen\u001b[0m\u001b[0;34m(\u001b[0m\u001b[0mtime\u001b[0m\u001b[0;34m)\u001b[0m\u001b[0;34m,\u001b[0m \u001b[0;36m1\u001b[0m\u001b[0;34m)\u001b[0m\u001b[0;34m)\u001b[0m\u001b[0;34m\u001b[0m\u001b[0;34m\u001b[0m\u001b[0m\n\u001b[0;32m---> 26\u001b[0;31m         \u001b[0mmodel\u001b[0m\u001b[0;34m.\u001b[0m\u001b[0mfit\u001b[0m\u001b[0;34m(\u001b[0m\u001b[0mu_noisy\u001b[0m\u001b[0;34m,\u001b[0m \u001b[0mquiet\u001b[0m\u001b[0;34m=\u001b[0m\u001b[0;32mTrue\u001b[0m\u001b[0;34m)\u001b[0m\u001b[0;34m\u001b[0m\u001b[0;34m\u001b[0m\u001b[0m\n\u001b[0m\u001b[1;32m     27\u001b[0m         \u001b[0mmodel\u001b[0m\u001b[0;34m.\u001b[0m\u001b[0mprint\u001b[0m\u001b[0;34m(\u001b[0m\u001b[0;34m)\u001b[0m\u001b[0;34m\u001b[0m\u001b[0;34m\u001b[0m\u001b[0m\n\u001b[1;32m     28\u001b[0m         \u001b[0mc1\u001b[0m \u001b[0;34m=\u001b[0m \u001b[0mabs\u001b[0m\u001b[0;34m(\u001b[0m\u001b[0moptimizer\u001b[0m\u001b[0;34m.\u001b[0m\u001b[0mcoef_\u001b[0m\u001b[0;34m[\u001b[0m\u001b[0;36m0\u001b[0m\u001b[0;34m,\u001b[0m \u001b[0;36m6\u001b[0m\u001b[0;34m]\u001b[0m\u001b[0;34m)\u001b[0m\u001b[0;34m\u001b[0m\u001b[0;34m\u001b[0m\u001b[0m\n",
      "\u001b[0;32m~/miniconda3/envs/phys5070/lib/python3.9/site-packages/pysindy/pysindy.py\u001b[0m in \u001b[0;36mfit\u001b[0;34m(self, x, t, x_dot, u, multiple_trajectories, unbias, quiet, ensemble, library_ensemble, replace, n_candidates_to_drop, n_subset, n_models, ensemble_aggregator)\u001b[0m\n\u001b[1;32m    536\u001b[0m                         \u001b[0mself\u001b[0m\u001b[0;34m.\u001b[0m\u001b[0mcoef_list\u001b[0m\u001b[0;34m.\u001b[0m\u001b[0mappend\u001b[0m\u001b[0;34m(\u001b[0m\u001b[0mcoef_partial\u001b[0m\u001b[0;34m)\u001b[0m\u001b[0;34m\u001b[0m\u001b[0;34m\u001b[0m\u001b[0m\n\u001b[1;32m    537\u001b[0m             \u001b[0;32melse\u001b[0m\u001b[0;34m:\u001b[0m\u001b[0;34m\u001b[0m\u001b[0;34m\u001b[0m\u001b[0m\n\u001b[0;32m--> 538\u001b[0;31m                 \u001b[0mself\u001b[0m\u001b[0;34m.\u001b[0m\u001b[0mmodel\u001b[0m\u001b[0;34m.\u001b[0m\u001b[0mfit\u001b[0m\u001b[0;34m(\u001b[0m\u001b[0mx\u001b[0m\u001b[0;34m,\u001b[0m \u001b[0mx_dot\u001b[0m\u001b[0;34m)\u001b[0m\u001b[0;34m\u001b[0m\u001b[0;34m\u001b[0m\u001b[0m\n\u001b[0m\u001b[1;32m    539\u001b[0m \u001b[0;34m\u001b[0m\u001b[0m\n\u001b[1;32m    540\u001b[0m         \u001b[0;31m# Get average coefficients if ensembling was used\u001b[0m\u001b[0;34m\u001b[0m\u001b[0;34m\u001b[0m\u001b[0m\n",
      "\u001b[0;32m~/miniconda3/envs/phys5070/lib/python3.9/site-packages/sklearn/pipeline.py\u001b[0m in \u001b[0;36mfit\u001b[0;34m(self, X, y, **fit_params)\u001b[0m\n\u001b[1;32m    388\u001b[0m         \"\"\"\n\u001b[1;32m    389\u001b[0m         \u001b[0mfit_params_steps\u001b[0m \u001b[0;34m=\u001b[0m \u001b[0mself\u001b[0m\u001b[0;34m.\u001b[0m\u001b[0m_check_fit_params\u001b[0m\u001b[0;34m(\u001b[0m\u001b[0;34m**\u001b[0m\u001b[0mfit_params\u001b[0m\u001b[0;34m)\u001b[0m\u001b[0;34m\u001b[0m\u001b[0;34m\u001b[0m\u001b[0m\n\u001b[0;32m--> 390\u001b[0;31m         \u001b[0mXt\u001b[0m \u001b[0;34m=\u001b[0m \u001b[0mself\u001b[0m\u001b[0;34m.\u001b[0m\u001b[0m_fit\u001b[0m\u001b[0;34m(\u001b[0m\u001b[0mX\u001b[0m\u001b[0;34m,\u001b[0m \u001b[0my\u001b[0m\u001b[0;34m,\u001b[0m \u001b[0;34m**\u001b[0m\u001b[0mfit_params_steps\u001b[0m\u001b[0;34m)\u001b[0m\u001b[0;34m\u001b[0m\u001b[0;34m\u001b[0m\u001b[0m\n\u001b[0m\u001b[1;32m    391\u001b[0m         \u001b[0;32mwith\u001b[0m \u001b[0m_print_elapsed_time\u001b[0m\u001b[0;34m(\u001b[0m\u001b[0;34m\"Pipeline\"\u001b[0m\u001b[0;34m,\u001b[0m \u001b[0mself\u001b[0m\u001b[0;34m.\u001b[0m\u001b[0m_log_message\u001b[0m\u001b[0;34m(\u001b[0m\u001b[0mlen\u001b[0m\u001b[0;34m(\u001b[0m\u001b[0mself\u001b[0m\u001b[0;34m.\u001b[0m\u001b[0msteps\u001b[0m\u001b[0;34m)\u001b[0m \u001b[0;34m-\u001b[0m \u001b[0;36m1\u001b[0m\u001b[0;34m)\u001b[0m\u001b[0;34m)\u001b[0m\u001b[0;34m:\u001b[0m\u001b[0;34m\u001b[0m\u001b[0;34m\u001b[0m\u001b[0m\n\u001b[1;32m    392\u001b[0m             \u001b[0;32mif\u001b[0m \u001b[0mself\u001b[0m\u001b[0;34m.\u001b[0m\u001b[0m_final_estimator\u001b[0m \u001b[0;34m!=\u001b[0m \u001b[0;34m\"passthrough\"\u001b[0m\u001b[0;34m:\u001b[0m\u001b[0;34m\u001b[0m\u001b[0;34m\u001b[0m\u001b[0m\n",
      "\u001b[0;32m~/miniconda3/envs/phys5070/lib/python3.9/site-packages/sklearn/pipeline.py\u001b[0m in \u001b[0;36m_fit\u001b[0;34m(self, X, y, **fit_params_steps)\u001b[0m\n\u001b[1;32m    346\u001b[0m                 \u001b[0mcloned_transformer\u001b[0m \u001b[0;34m=\u001b[0m \u001b[0mclone\u001b[0m\u001b[0;34m(\u001b[0m\u001b[0mtransformer\u001b[0m\u001b[0;34m)\u001b[0m\u001b[0;34m\u001b[0m\u001b[0;34m\u001b[0m\u001b[0m\n\u001b[1;32m    347\u001b[0m             \u001b[0;31m# Fit or load from cache the current transformer\u001b[0m\u001b[0;34m\u001b[0m\u001b[0;34m\u001b[0m\u001b[0m\n\u001b[0;32m--> 348\u001b[0;31m             X, fitted_transformer = fit_transform_one_cached(\n\u001b[0m\u001b[1;32m    349\u001b[0m                 \u001b[0mcloned_transformer\u001b[0m\u001b[0;34m,\u001b[0m\u001b[0;34m\u001b[0m\u001b[0;34m\u001b[0m\u001b[0m\n\u001b[1;32m    350\u001b[0m                 \u001b[0mX\u001b[0m\u001b[0;34m,\u001b[0m\u001b[0;34m\u001b[0m\u001b[0;34m\u001b[0m\u001b[0m\n",
      "\u001b[0;32m~/miniconda3/envs/phys5070/lib/python3.9/site-packages/joblib/memory.py\u001b[0m in \u001b[0;36m__call__\u001b[0;34m(self, *args, **kwargs)\u001b[0m\n\u001b[1;32m    347\u001b[0m \u001b[0;34m\u001b[0m\u001b[0m\n\u001b[1;32m    348\u001b[0m     \u001b[0;32mdef\u001b[0m \u001b[0m__call__\u001b[0m\u001b[0;34m(\u001b[0m\u001b[0mself\u001b[0m\u001b[0;34m,\u001b[0m \u001b[0;34m*\u001b[0m\u001b[0margs\u001b[0m\u001b[0;34m,\u001b[0m \u001b[0;34m**\u001b[0m\u001b[0mkwargs\u001b[0m\u001b[0;34m)\u001b[0m\u001b[0;34m:\u001b[0m\u001b[0;34m\u001b[0m\u001b[0;34m\u001b[0m\u001b[0m\n\u001b[0;32m--> 349\u001b[0;31m         \u001b[0;32mreturn\u001b[0m \u001b[0mself\u001b[0m\u001b[0;34m.\u001b[0m\u001b[0mfunc\u001b[0m\u001b[0;34m(\u001b[0m\u001b[0;34m*\u001b[0m\u001b[0margs\u001b[0m\u001b[0;34m,\u001b[0m \u001b[0;34m**\u001b[0m\u001b[0mkwargs\u001b[0m\u001b[0;34m)\u001b[0m\u001b[0;34m\u001b[0m\u001b[0;34m\u001b[0m\u001b[0m\n\u001b[0m\u001b[1;32m    350\u001b[0m \u001b[0;34m\u001b[0m\u001b[0m\n\u001b[1;32m    351\u001b[0m     \u001b[0;32mdef\u001b[0m \u001b[0mcall_and_shelve\u001b[0m\u001b[0;34m(\u001b[0m\u001b[0mself\u001b[0m\u001b[0;34m,\u001b[0m \u001b[0;34m*\u001b[0m\u001b[0margs\u001b[0m\u001b[0;34m,\u001b[0m \u001b[0;34m**\u001b[0m\u001b[0mkwargs\u001b[0m\u001b[0;34m)\u001b[0m\u001b[0;34m:\u001b[0m\u001b[0;34m\u001b[0m\u001b[0;34m\u001b[0m\u001b[0m\n",
      "\u001b[0;32m~/miniconda3/envs/phys5070/lib/python3.9/site-packages/sklearn/pipeline.py\u001b[0m in \u001b[0;36m_fit_transform_one\u001b[0;34m(transformer, X, y, weight, message_clsname, message, **fit_params)\u001b[0m\n\u001b[1;32m    891\u001b[0m     \u001b[0;32mwith\u001b[0m \u001b[0m_print_elapsed_time\u001b[0m\u001b[0;34m(\u001b[0m\u001b[0mmessage_clsname\u001b[0m\u001b[0;34m,\u001b[0m \u001b[0mmessage\u001b[0m\u001b[0;34m)\u001b[0m\u001b[0;34m:\u001b[0m\u001b[0;34m\u001b[0m\u001b[0;34m\u001b[0m\u001b[0m\n\u001b[1;32m    892\u001b[0m         \u001b[0;32mif\u001b[0m \u001b[0mhasattr\u001b[0m\u001b[0;34m(\u001b[0m\u001b[0mtransformer\u001b[0m\u001b[0;34m,\u001b[0m \u001b[0;34m\"fit_transform\"\u001b[0m\u001b[0;34m)\u001b[0m\u001b[0;34m:\u001b[0m\u001b[0;34m\u001b[0m\u001b[0;34m\u001b[0m\u001b[0m\n\u001b[0;32m--> 893\u001b[0;31m             \u001b[0mres\u001b[0m \u001b[0;34m=\u001b[0m \u001b[0mtransformer\u001b[0m\u001b[0;34m.\u001b[0m\u001b[0mfit_transform\u001b[0m\u001b[0;34m(\u001b[0m\u001b[0mX\u001b[0m\u001b[0;34m,\u001b[0m \u001b[0my\u001b[0m\u001b[0;34m,\u001b[0m \u001b[0;34m**\u001b[0m\u001b[0mfit_params\u001b[0m\u001b[0;34m)\u001b[0m\u001b[0;34m\u001b[0m\u001b[0;34m\u001b[0m\u001b[0m\n\u001b[0m\u001b[1;32m    894\u001b[0m         \u001b[0;32melse\u001b[0m\u001b[0;34m:\u001b[0m\u001b[0;34m\u001b[0m\u001b[0;34m\u001b[0m\u001b[0m\n\u001b[1;32m    895\u001b[0m             \u001b[0mres\u001b[0m \u001b[0;34m=\u001b[0m \u001b[0mtransformer\u001b[0m\u001b[0;34m.\u001b[0m\u001b[0mfit\u001b[0m\u001b[0;34m(\u001b[0m\u001b[0mX\u001b[0m\u001b[0;34m,\u001b[0m \u001b[0my\u001b[0m\u001b[0;34m,\u001b[0m \u001b[0;34m**\u001b[0m\u001b[0mfit_params\u001b[0m\u001b[0;34m)\u001b[0m\u001b[0;34m.\u001b[0m\u001b[0mtransform\u001b[0m\u001b[0;34m(\u001b[0m\u001b[0mX\u001b[0m\u001b[0;34m)\u001b[0m\u001b[0;34m\u001b[0m\u001b[0;34m\u001b[0m\u001b[0m\n",
      "\u001b[0;32m~/miniconda3/envs/phys5070/lib/python3.9/site-packages/sklearn/base.py\u001b[0m in \u001b[0;36mfit_transform\u001b[0;34m(self, X, y, **fit_params)\u001b[0m\n\u001b[1;32m    853\u001b[0m         \u001b[0;32melse\u001b[0m\u001b[0;34m:\u001b[0m\u001b[0;34m\u001b[0m\u001b[0;34m\u001b[0m\u001b[0m\n\u001b[1;32m    854\u001b[0m             \u001b[0;31m# fit method of arity 2 (supervised transformation)\u001b[0m\u001b[0;34m\u001b[0m\u001b[0;34m\u001b[0m\u001b[0m\n\u001b[0;32m--> 855\u001b[0;31m             \u001b[0;32mreturn\u001b[0m \u001b[0mself\u001b[0m\u001b[0;34m.\u001b[0m\u001b[0mfit\u001b[0m\u001b[0;34m(\u001b[0m\u001b[0mX\u001b[0m\u001b[0;34m,\u001b[0m \u001b[0my\u001b[0m\u001b[0;34m,\u001b[0m \u001b[0;34m**\u001b[0m\u001b[0mfit_params\u001b[0m\u001b[0;34m)\u001b[0m\u001b[0;34m.\u001b[0m\u001b[0mtransform\u001b[0m\u001b[0;34m(\u001b[0m\u001b[0mX\u001b[0m\u001b[0;34m)\u001b[0m\u001b[0;34m\u001b[0m\u001b[0;34m\u001b[0m\u001b[0m\n\u001b[0m\u001b[1;32m    856\u001b[0m \u001b[0;34m\u001b[0m\u001b[0m\n\u001b[1;32m    857\u001b[0m \u001b[0;34m\u001b[0m\u001b[0m\n",
      "\u001b[0;32m~/miniconda3/envs/phys5070/lib/python3.9/site-packages/pysindy/feature_library/weak_pde_library.py\u001b[0m in \u001b[0;36mtransform\u001b[0;34m(self, x)\u001b[0m\n\u001b[1;32m    766\u001b[0m                                     )\n\u001b[1;32m    767\u001b[0m                         \u001b[0mderiv_slices\u001b[0m\u001b[0;34m[\u001b[0m\u001b[0;34m-\u001b[0m\u001b[0;36m1\u001b[0m\u001b[0;34m]\u001b[0m \u001b[0;34m=\u001b[0m \u001b[0mderiv_ind\u001b[0m\u001b[0;34m\u001b[0m\u001b[0;34m\u001b[0m\u001b[0m\n\u001b[0;32m--> 768\u001b[0;31m                         \u001b[0mderivs_mixed_total\u001b[0m\u001b[0;34m[\u001b[0m\u001b[0mtuple\u001b[0m\u001b[0;34m(\u001b[0m\u001b[0mderiv_slices\u001b[0m\u001b[0;34m)\u001b[0m\u001b[0;34m]\u001b[0m \u001b[0;34m=\u001b[0m \u001b[0mderivs_mixed\u001b[0m\u001b[0;34m\u001b[0m\u001b[0;34m\u001b[0m\u001b[0m\n\u001b[0m\u001b[1;32m    769\u001b[0m                         \u001b[0mderivs_pure_total\u001b[0m\u001b[0;34m[\u001b[0m\u001b[0mtuple\u001b[0m\u001b[0;34m(\u001b[0m\u001b[0mderiv_slices\u001b[0m\u001b[0;34m)\u001b[0m\u001b[0;34m]\u001b[0m \u001b[0;34m=\u001b[0m \u001b[0mderivs_pure\u001b[0m\u001b[0;34m\u001b[0m\u001b[0;34m\u001b[0m\u001b[0m\n\u001b[1;32m    770\u001b[0m                     \u001b[0;31m# Okay, now assemble all the terms to integrate\u001b[0m\u001b[0;34m\u001b[0m\u001b[0;34m\u001b[0m\u001b[0m\n",
      "\u001b[0;31mKeyboardInterrupt\u001b[0m: "
     ]
    }
   ],
   "source": [
    "cross_val_runs = 1\n",
    "u = np.squeeze(u)\n",
    "rmse = mean_squared_error(u, np.zeros(u.shape), squared=False)\n",
    "noise_levels = np.linspace(0, rmse / 2.0, 5)\n",
    "delta_c1 = np.zeros((cross_val_runs, len(noise_levels)))\n",
    "delta_c2 = np.zeros((cross_val_runs, len(noise_levels)))\n",
    "delta_c3 = np.zeros((cross_val_runs, len(noise_levels)))\n",
    "pde_lib = ps.WeakPDELibrary(\n",
    "    library_functions=library_functions,\n",
    "    function_names=library_function_names,\n",
    "    derivative_order=4,\n",
    "    spatiotemporal_grid=XT,\n",
    "    K=400,\n",
    "    is_uniform=True,\n",
    "    num_pts_per_domain=100,\n",
    ")\n",
    "optimizer = ps.SR3(\n",
    "    threshold=0.5, max_iter=20, tol=1e-10, \n",
    "    thresholder=\"l0\", normalize_columns=True\n",
    ")\n",
    "model = ps.SINDy(feature_library=pde_lib, optimizer=optimizer)\n",
    "for i in range(cross_val_runs):\n",
    "    for j, noise in enumerate(noise_levels):\n",
    "        u_noisy = u + np.random.normal(0, noise, u.shape)\n",
    "        u_noisy = np.reshape(u_noisy, (len(x), len(time), 1))\n",
    "        model.fit(u_noisy, quiet=True)\n",
    "        model.print()\n",
    "        c1 = abs(optimizer.coef_[0, 6])\n",
    "        c2 = abs(optimizer.coef_[0, 3])\n",
    "        c3 = abs(optimizer.coef_[0, 5])\n",
    "        delta_c1[i, j] = abs(abs(c1 - 1.0) / c1)\n",
    "        delta_c2[i, j] = abs(abs(c2 - 1.0) / c2)\n",
    "        delta_c3[i, j] = abs(abs(c3 - 1.0) / c3)"
   ]
  },
  {
   "cell_type": "markdown",
   "id": "9796e244",
   "metadata": {},
   "source": [
    "## Example for Subsampling using Lorenz Equation \\cite{pysindy}\n",
    "$$\\dot x = -10x + 10y,$$\n",
    " $$ \\dot y = x(28 - z) - y,$$\n",
    " $$\\dot z = xy - \\frac{8}{3} z.$$ \n"
   ]
  },
  {
   "cell_type": "code",
   "execution_count": 100,
   "id": "276d60b2",
   "metadata": {},
   "outputs": [
    {
     "name": "stdout",
     "output_type": "stream",
     "text": [
      "(x)' = -2.610 1 + -9.972 x + 9.939 y + 0.146 z\n",
      "(y)' = 26.731 x + -0.617 y + -0.972 x z\n",
      "(z)' = 2.564 1 + 0.284 x + -0.197 y + -2.762 z + 0.991 x y\n"
     ]
    }
   ],
   "source": [
    "from pysindy.utils.odes import lorenz\n",
    "\n",
    "dt = .002\n",
    "t_train = np.arange(0, 10, dt)\n",
    "t_train_span = (t_train[0], t_train[-1])\n",
    "x0_train = [-8, 8, 27]\n",
    "x_train = solve_ivp(lorenz, t_train_span, x0_train, \n",
    "                    t_eval=t_train, **integrator_keywords).y.T\n",
    "\n",
    "# add 1% noise to add a little complexity \n",
    "# (otherwise all the models are basically correct)\n",
    "rmse = mean_squared_error(x_train, np.zeros(x_train.shape), squared=False)\n",
    "x_train = x_train + np.random.normal(0, rmse / 100.0, x_train.shape)\n",
    "\n",
    "# Evolve the Lorenz equations in time using a different initial condition\n",
    "t_test = np.arange(0, 15, dt)\n",
    "t_test_span = (t_test[0], t_test[-1])\n",
    "x0_test = np.array([8, 7, 15])\n",
    "x_test = solve_ivp(lorenz, t_test_span, x0_test, \n",
    "                   t_eval=t_test, **integrator_keywords).y.T\n",
    "\n",
    "# Instantiate and fit the SINDy model \n",
    "feature_names = ['x', 'y', 'z']\n",
    "ensemble_optimizer = ps.STLSQ()\n",
    "model = ps.SINDy(feature_names=feature_names, optimizer=ensemble_optimizer)\n",
    "# Ensemble with replacement (V1)\n",
    "model.fit(x_train, t=dt, ensemble=True, quiet=True)\n",
    "model.print()\n",
    "ensemble_coefs = model.coef_list"
   ]
  },
  {
   "cell_type": "code",
   "execution_count": 101,
   "id": "dac31008",
   "metadata": {},
   "outputs": [
    {
     "name": "stdout",
     "output_type": "stream",
     "text": [
      "(x)' = -9.929 x + 9.940 y\n",
      "(y)' = 0.146 1 + 27.799 x + -0.927 y + -0.996 x z\n",
      "(z)' = -0.113 1 + -2.657 z + 0.999 x y\n"
     ]
    }
   ],
   "source": [
    "# repeat without replacement (V2)\n",
    "ensemble_optimizer = ps.STLSQ()\n",
    "model = ps.SINDy(feature_names=feature_names, optimizer=ensemble_optimizer)\n",
    "model.fit(x_train, t=dt, ensemble=True, replace=False, quiet=True)\n",
    "model.print()\n",
    "ensemble_coefs = model.coef_list"
   ]
  },
  {
   "cell_type": "markdown",
   "id": "c65b287b",
   "metadata": {},
   "source": [
    "# References\n",
    "\n",
    "[<a id=\"cit-rpcapy\" href=\"#call-rpcapy\">1</a>] , ``_Robust-PCA_'',  .  [online](\\url{https://github.com/dganguli/robust-pca})\n",
    "\n",
    "[<a id=\"cit-brunton_2016\" href=\"#call-brunton_2016\">2</a>] L. Steven, L. Joshua and Nathan J., ``_Discovering governing equations from data by sparse identification of nonlinear dynamical systems_'', Proceedings of the National Academy of Sciences, vol. 113, number 15, pp. 3932--3937, mar 2016.  [online](https://doi.org/10.1073%2Fpnas.1517384113)\n",
    "\n",
    "[<a id=\"cit-scherl_2019\" href=\"#call-scherl_2019\">3</a>] Isabel Scherl, Benjamin Strom, Jessica K. Shang <em>et al.</em>, ``_Robust Principal Component Analysis for Modal Decomposition of Corrupt Fluid Flows_'',  2019.  [online](https://arxiv.org/abs/1905.07062)\n",
    "\n",
    "[<a id=\"cit-pysindy\" href=\"#call-pysindy\">4</a>] , ``_PySINDy_'',  .  [online](\\url{https://pysindy.readthedocs.io/en/latest/index.html})\n",
    "\n"
   ]
  },
  {
   "cell_type": "code",
   "execution_count": null,
   "id": "d4a14e20",
   "metadata": {},
   "outputs": [],
   "source": []
  }
 ],
 "metadata": {
  "hide_input": false,
  "kernelspec": {
   "display_name": "Python 3 (ipykernel)",
   "language": "python",
   "name": "python3"
  },
  "language_info": {
   "codemirror_mode": {
    "name": "ipython",
    "version": 3
   },
   "file_extension": ".py",
   "mimetype": "text/x-python",
   "name": "python",
   "nbconvert_exporter": "python",
   "pygments_lexer": "ipython3",
   "version": "3.9.9"
  },
  "latex_envs": {
   "LaTeX_envs_menu_present": true,
   "autoclose": false,
   "autocomplete": true,
   "bibliofile": "biblio.bib",
   "cite_by": "number",
   "current_citInitial": 1,
   "eqLabelWithNumbers": true,
   "eqNumInitial": 1,
   "hotkeys": {
    "equation": "Ctrl-E",
    "itemize": "Ctrl-I"
   },
   "labels_anchors": true,
   "latex_user_defs": false,
   "report_style_numbering": false,
   "user_envs_cfg": false
  },
  "toc": {
   "base_numbering": 1,
   "nav_menu": {},
   "number_sections": true,
   "sideBar": true,
   "skip_h1_title": false,
   "title_cell": "Table of Contents",
   "title_sidebar": "Contents",
   "toc_cell": false,
   "toc_position": {
    "height": "605.25px",
    "left": "59px",
    "top": "110.083px",
    "width": "288.3px"
   },
   "toc_section_display": true,
   "toc_window_display": true
  },
  "varInspector": {
   "cols": {
    "lenName": 16,
    "lenType": 16,
    "lenVar": 40
   },
   "kernels_config": {
    "python": {
     "delete_cmd_postfix": "",
     "delete_cmd_prefix": "del ",
     "library": "var_list.py",
     "varRefreshCmd": "print(var_dic_list())"
    },
    "r": {
     "delete_cmd_postfix": ") ",
     "delete_cmd_prefix": "rm(",
     "library": "var_list.r",
     "varRefreshCmd": "cat(var_dic_list()) "
    }
   },
   "types_to_exclude": [
    "module",
    "function",
    "builtin_function_or_method",
    "instance",
    "_Feature"
   ],
   "window_display": false
  }
 },
 "nbformat": 4,
 "nbformat_minor": 5
}
